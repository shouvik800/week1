{
 "cells": [
  {
   "cell_type": "code",
   "execution_count": 5,
   "id": "de2d3570-5a27-42b9-9033-00aed2a89bc3",
   "metadata": {},
   "outputs": [
    {
     "name": "stdout",
     "output_type": "stream",
     "text": [
      "Shouvik\n",
      "[2, 4, 4.6, 'w', 'shouvik', True]\n",
      "4.5\n",
      "(1, 2, 3, 4)\n"
     ]
    }
   ],
   "source": [
    "#Q1. Create one variable containing following type of data:\n",
    "# (i)string\n",
    "# (ii) list\n",
    "# (iii) float\n",
    "# (iv) tuple\n",
    "\n",
    "s=\"Shouvik\"\n",
    "print(s)\n",
    "\n",
    "l=[2,4,4.6,'w',\"shouvik\",True]\n",
    "print(l)\n",
    "\n",
    "f=4.5\n",
    "print(f)\n",
    "\n",
    "t=(1,2,3,4)\n",
    "print(t)\n"
   ]
  },
  {
   "cell_type": "code",
   "execution_count": 10,
   "id": "d84972cc-e6ea-4d30-8684-de56ad5660bc",
   "metadata": {},
   "outputs": [
    {
     "name": "stdout",
     "output_type": "stream",
     "text": [
      "<class 'str'>\n",
      "<class 'str'>\n",
      "<class 'list'>\n",
      "<class 'int'>\n"
     ]
    }
   ],
   "source": [
    "# Q2. Given are some following variables containing data:\n",
    "# (i) var1 = ‘ ‘\n",
    "# (ii) var2 = ‘[ DS , ML , Python]’\n",
    "# (iii) var3 = [ ‘DS’ , ’ML’ , ‘Python’ ]\n",
    "# (iv) var4 = 1.\n",
    "#What will be the data type of the above given variable.\n",
    "\n",
    "var1=' '\n",
    "print(type(var1))\n",
    "\n",
    "var2 ='[ DS, ML ,Python]'\n",
    "print(type(var2))\n",
    "\n",
    "var3 =[ 'DS' , 'ML' , 'Python' ]\n",
    "print(type(var3))\n",
    "\n",
    "var4 =1\n",
    "print(type(var4))\n",
    "\n"
   ]
  },
  {
   "cell_type": "code",
   "execution_count": 13,
   "id": "e1976fbc-1a36-4545-b89d-8bab41143220",
   "metadata": {},
   "outputs": [
    {
     "name": "stdout",
     "output_type": "stream",
     "text": [
      "2.0\n",
      "1\n",
      "5\n",
      "81\n"
     ]
    }
   ],
   "source": [
    "# Explain the use of the following operators using an example:\n",
    "# (i) /\n",
    "# (ii) %\n",
    "# (iii) //\n",
    "# (iv) **\n",
    "\n",
    "print(10/5)\n",
    "\n",
    "print(10%3)\n",
    "\n",
    "print(10//2)\n",
    "\n",
    "print(3**4)"
   ]
  },
  {
   "cell_type": "code",
   "execution_count": 15,
   "id": "6a8495c7-75c3-4c74-ad2c-7a5eba0cc167",
   "metadata": {},
   "outputs": [
    {
     "name": "stdout",
     "output_type": "stream",
     "text": [
      "1\n",
      "<class 'int'>\n",
      "2\n",
      "<class 'int'>\n",
      "3\n",
      "<class 'int'>\n",
      "5.5\n",
      "<class 'float'>\n",
      "True\n",
      "<class 'bool'>\n",
      "s\n",
      "<class 'str'>\n",
      "shouvik\n",
      "<class 'str'>\n"
     ]
    }
   ],
   "source": [
    "# Q4. Create a list of length 10 of your choice containing multiple types of data. Using for loop print the\n",
    "# element and its data type.\n",
    "l=[1,2,3,5.5,True,'s',\"shouvik\"]\n",
    "for i in l:\n",
    "    print(i)\n",
    "    print(type(i))"
   ]
  },
  {
   "cell_type": "code",
   "execution_count": 18,
   "id": "206870ba-7db2-4a16-8a2a-4abe2f5e195c",
   "metadata": {},
   "outputs": [
    {
     "name": "stdout",
     "output_type": "stream",
     "text": [
      "Enter a\n"
     ]
    },
    {
     "name": "stdin",
     "output_type": "stream",
     "text": [
      " 10\n"
     ]
    },
    {
     "name": "stdout",
     "output_type": "stream",
     "text": [
      "Enter b\n"
     ]
    },
    {
     "name": "stdin",
     "output_type": "stream",
     "text": [
      " 5\n"
     ]
    },
    {
     "name": "stdout",
     "output_type": "stream",
     "text": [
      "2.0\n"
     ]
    }
   ],
   "source": [
    "# Q5. Using a while loop, verify if the number A is purely divisible by number B and if so then how many\n",
    "# times it can be divisible.\n",
    "\n",
    "\n",
    "print(\"Enter a\")\n",
    "a=int(input())\n",
    "\n",
    "print(\"Enter b\")\n",
    "b=int(input())\n",
    "while(a%b==0):\n",
    "    c=a/b\n",
    "    print(c)\n",
    "    break\n",
    "else:\n",
    "    print(\"not devisible\")\n"
   ]
  },
  {
   "cell_type": "code",
   "execution_count": 19,
   "id": "88eab720-a4fd-4f6d-886b-cc2a2353212c",
   "metadata": {},
   "outputs": [
    {
     "name": "stdout",
     "output_type": "stream",
     "text": [
      "not divisible\n",
      "not divisible\n",
      "divisible\n",
      "not divisible\n",
      "not divisible\n",
      "divisible\n",
      "not divisible\n",
      "not divisible\n",
      "divisible\n",
      "not divisible\n",
      "not divisible\n",
      "divisible\n",
      "not divisible\n",
      "not divisible\n",
      "divisible\n",
      "not divisible\n",
      "not divisible\n",
      "divisible\n",
      "not divisible\n",
      "not divisible\n",
      "divisible\n",
      "not divisible\n",
      "not divisible\n",
      "divisible\n",
      "not divisible\n"
     ]
    }
   ],
   "source": [
    "# Q6. Create a list containing 25 int type data. Using for loop and if-else condition print if the element is\n",
    "# divisible by 3 or not.\n",
    "l=[1,2,3,4,5,6,7,8,9,10,11,12,13,14,15,16,17,18,19,20,21,22,23,24,25]\n",
    "for i in l:\n",
    "    if i%3==0:\n",
    "        print(\"divisible\")\n",
    "    else:\n",
    "        print(\"not divisible\")"
   ]
  },
  {
   "cell_type": "code",
   "execution_count": 25,
   "id": "634176c3-dd2d-4c7f-a082-ba5d0110b30b",
   "metadata": {},
   "outputs": [
    {
     "ename": "NameError",
     "evalue": "name 'massage' is not defined",
     "output_type": "error",
     "traceback": [
      "\u001b[0;31m---------------------------------------------------------------------------\u001b[0m",
      "\u001b[0;31mNameError\u001b[0m                                 Traceback (most recent call last)",
      "Cell \u001b[0;32mIn[25], line 7\u001b[0m\n\u001b[1;32m      1\u001b[0m \u001b[38;5;66;03m# # Q7. What do you understand about mutable and immutable data types? Give examples for both showing\u001b[39;00m\n\u001b[1;32m      2\u001b[0m \u001b[38;5;66;03m# # this property.\u001b[39;00m\n\u001b[1;32m      3\u001b[0m \n\u001b[1;32m      4\u001b[0m \u001b[38;5;66;03m# Mutable and immutable data types are concepts used in programming to describe whether the value of a data type\u001b[39;00m\n\u001b[1;32m      5\u001b[0m \u001b[38;5;66;03m# can be changed(mutable) or not (immutable) after it has been created.\u001b[39;00m\n\u001b[1;32m      6\u001b[0m message \u001b[38;5;241m=\u001b[39m \u001b[38;5;124m\"\u001b[39m\u001b[38;5;124mHello\u001b[39m\u001b[38;5;124m\"\u001b[39m\n\u001b[0;32m----> 7\u001b[0m \u001b[43mmassage\u001b[49m[\u001b[38;5;241m0\u001b[39m]\u001b[38;5;241m=\u001b[39m\u001b[38;5;124m\"\u001b[39m\u001b[38;5;124mm\u001b[39m\u001b[38;5;124m\"\u001b[39m\n\u001b[1;32m      8\u001b[0m \u001b[38;5;28mprint\u001b[39m(message)  \n\u001b[1;32m     11\u001b[0m tuple1 \u001b[38;5;241m=\u001b[39m (\u001b[38;5;241m0\u001b[39m, \u001b[38;5;241m1\u001b[39m, \u001b[38;5;241m2\u001b[39m, \u001b[38;5;241m3\u001b[39m)\n",
      "\u001b[0;31mNameError\u001b[0m: name 'massage' is not defined"
     ]
    }
   ],
   "source": [
    "# # Q7. What do you understand about mutable and immutable data types? Give examples for both showing\n",
    "# # this property.\n",
    "\n",
    "# Mutable and immutable data types are concepts used in programming to describe whether the value of a data type\n",
    "# can be changed(mutable) or not (immutable) after it has been created.\n",
    "message = \"Hello\"\n",
    "massage[0]=\"m\"\n",
    "print(message)  \n",
    "\n",
    "\n",
    "tuple1 = (0, 1, 2, 3)\n",
    "tuple1[0] = 4\n",
    "print(tuple1)\n",
    "\n"
   ]
  },
  {
   "cell_type": "code",
   "execution_count": null,
   "id": "08256f76-32dd-43ce-9e7b-e2f671442b5c",
   "metadata": {},
   "outputs": [],
   "source": []
  }
 ],
 "metadata": {
  "kernelspec": {
   "display_name": "Python 3 (ipykernel)",
   "language": "python",
   "name": "python3"
  },
  "language_info": {
   "codemirror_mode": {
    "name": "ipython",
    "version": 3
   },
   "file_extension": ".py",
   "mimetype": "text/x-python",
   "name": "python",
   "nbconvert_exporter": "python",
   "pygments_lexer": "ipython3",
   "version": "3.10.8"
  }
 },
 "nbformat": 4,
 "nbformat_minor": 5
}
