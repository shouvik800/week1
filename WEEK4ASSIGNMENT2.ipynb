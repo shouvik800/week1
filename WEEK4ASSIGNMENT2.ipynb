{
 "cells": [
  {
   "cell_type": "code",
   "execution_count": null,
   "id": "1b04a9b4-9a4d-41d0-9c2f-2116578710d6",
   "metadata": {},
   "outputs": [],
   "source": [
    "# Q1. Explain Class and Object with respect to Object-Oriented Programming. Give a suitable example."
   ]
  },
  {
   "cell_type": "code",
   "execution_count": null,
   "id": "fa2cc4d9-ca94-41cf-b176-1b4741f4f8aa",
   "metadata": {},
   "outputs": [],
   "source": [
    "# In Object-Oriented Programming (OOP), a class and an object are fundamental concepts that allow you to model real-world entities and their behaviors in a structured and organized manner.\n",
    "\n",
    "# Class:\n",
    "# A class is a blueprint or a template for creating objects. It defines the attributes\n",
    "# (also called properties or fields) and behaviors (methods or functions) that the\n",
    "# objects of that class will have. In other words, a class encapsulates the common characteristics and\n",
    "# behaviors that its objects will share.\n",
    "\n",
    "# Object:\n",
    "# An object is an instance of a class. It represents a specific instance of the entity defined by the class. Each \n",
    "# object has its own set of attributes and can perform the behaviors defined by the class. Objects are the actual \n",
    "# entities that interact with each other in an object-oriented program.\n",
    "\n",
    "# Let's illustrate this w ith an example"
   ]
  },
  {
   "cell_type": "code",
   "execution_count": 2,
   "id": "c3409627-9e34-4e0b-9980-103f30e5a20e",
   "metadata": {},
   "outputs": [
    {
     "name": "stdout",
     "output_type": "stream",
     "text": [
      "Buddy\n",
      "5\n",
      "Buddy is barking!\n",
      "Max is barking!\n"
     ]
    }
   ],
   "source": [
    "class Dog:\n",
    "    def __init__(self, name, age):\n",
    "        self.name = name\n",
    "        self.age = age\n",
    "    \n",
    "    def bark(self):\n",
    "        print(f\"{self.name} is barking!\")\n",
    "\n",
    "\n",
    "dog1 = Dog(\"Buddy\", 3)\n",
    "dog2 = Dog(\"Max\", 5)\n",
    "\n",
    "\n",
    "print(dog1.name)  \n",
    "print(dog2.age)   \n",
    "\n",
    "dog1.bark()  \n",
    "dog2.bark()  \n"
   ]
  },
  {
   "cell_type": "code",
   "execution_count": 4,
   "id": "cd7e32b6-781f-4c6a-b2f3-21f3d108f211",
   "metadata": {},
   "outputs": [],
   "source": [
    "# Q2. Name the four pillars of OOPs."
   ]
  },
  {
   "cell_type": "code",
   "execution_count": null,
   "id": "b33210d7-3ddb-4bce-bd73-b1b21afe7308",
   "metadata": {},
   "outputs": [],
   "source": [
    "# The Four pillars of OOPs, abstraction, encapsulation, inheritance, and polymorphism, are integral\n",
    "# to understanding and using OOP."
   ]
  },
  {
   "cell_type": "code",
   "execution_count": null,
   "id": "90aceea1-a37f-44fb-a6d5-7179f0d642f1",
   "metadata": {},
   "outputs": [],
   "source": [
    "# 3.Explain why the __init__() function is used. Give a suitable example."
   ]
  },
  {
   "cell_type": "code",
   "execution_count": null,
   "id": "b00aad4e-f828-4b60-9133-a834943d82ec",
   "metadata": {},
   "outputs": [],
   "source": [
    "# As the above example explains, __init__ is a special python method that runs whenever a new object is created. \n",
    "# These types of functions are used to initialize the attributes of that class, if the class is Person, \n",
    "# then the attributes will be name, age, etc"
   ]
  },
  {
   "cell_type": "code",
   "execution_count": 5,
   "id": "e6b00259-d931-4bc1-b7b2-f508bafbf418",
   "metadata": {},
   "outputs": [
    {
     "name": "stdout",
     "output_type": "stream",
     "text": [
      "Alice\n",
      "B\n"
     ]
    }
   ],
   "source": [
    "class Student:\n",
    "    def __init__(self, name, age, grade):\n",
    "        self.name = name\n",
    "        self.age = age\n",
    "        self.grade = grade\n",
    "\n",
    "\n",
    "student1 = Student(\"Alice\", 18, \"A\")\n",
    "student2 = Student(\"Bob\", 17, \"B\")\n",
    "\n",
    "\n",
    "print(student1.name)   \n",
    "print(student2.grade)  \n"
   ]
  },
  {
   "cell_type": "code",
   "execution_count": null,
   "id": "39319d2e-9d38-4816-bbd0-327153d1ba88",
   "metadata": {},
   "outputs": [],
   "source": [
    "# Q4. Why self is used in OOPs?"
   ]
  },
  {
   "cell_type": "code",
   "execution_count": null,
   "id": "fd4aaa02-5a43-4048-836a-826d2d59e6a1",
   "metadata": {},
   "outputs": [],
   "source": [
    "# self represents the instance of the class. By using the “self”  we can access the attributes and methods of the \n",
    "# class in python. It binds the attributes with the given arguments.The reason you need to use self. is because \n",
    "# Python does not use the @ syntax to refer to instance attributes."
   ]
  },
  {
   "cell_type": "code",
   "execution_count": null,
   "id": "e28cc0f0-3c40-4109-a382-409d4a0c65a2",
   "metadata": {},
   "outputs": [],
   "source": [
    "# What is inheritance? Give an example for each type of inheritance."
   ]
  },
  {
   "cell_type": "code",
   "execution_count": null,
   "id": "27412ff5-e3b7-4574-b1de-1bd0a898b566",
   "metadata": {},
   "outputs": [],
   "source": [
    "# Inheritance is a fundamental concept in Object-Oriented Programming (OOP) that allows a new class\n",
    "# (subclass or derived class) to inherit attributes and behaviors from an existing class\n",
    "# (superclass or base class). Inheritance promotes code reuse, extensibility, and the creation of a hierarchy \n",
    "# of classes where subclasses can specialize or override the functionality of their superclasses.\n"
   ]
  },
  {
   "cell_type": "code",
   "execution_count": 6,
   "id": "28f31c5b-1293-4c8e-96ca-e174df0d5321",
   "metadata": {},
   "outputs": [
    {
     "name": "stdout",
     "output_type": "stream",
     "text": [
      "Woof!\n",
      "Meow!\n"
     ]
    }
   ],
   "source": [
    "# SINGLE INHERITANCE\n",
    "class Animal:\n",
    "    def speak(self):\n",
    "        pass\n",
    "\n",
    "class Dog(Animal):\n",
    "    def speak(self):\n",
    "        return \"Woof!\"\n",
    "\n",
    "class Cat(Animal):\n",
    "    def speak(self):\n",
    "        return \"Meow!\"\n",
    "\n",
    "dog = Dog()\n",
    "cat = Cat()\n",
    "\n",
    "print(dog.speak())  # Output: Woof!\n",
    "print(cat.speak())  # Output: Meow!\n"
   ]
  },
  {
   "cell_type": "code",
   "execution_count": null,
   "id": "8812af4e-16cf-4fb6-bacd-23ac4a990275",
   "metadata": {},
   "outputs": [],
   "source": [
    "# MULTIPLE INTERIHANCE"
   ]
  },
  {
   "cell_type": "code",
   "execution_count": 7,
   "id": "43fae636-436d-4d9d-ab0b-08a1affb8579",
   "metadata": {},
   "outputs": [
    {
     "name": "stdout",
     "output_type": "stream",
     "text": [
      "Swimming...\n",
      "Flying...\n",
      "Quack!\n"
     ]
    }
   ],
   "source": [
    "class Swimmer:\n",
    "    def swim(self):\n",
    "        return \"Swimming...\"\n",
    "\n",
    "class Flyer:\n",
    "    def fly(self):\n",
    "        return \"Flying...\"\n",
    "\n",
    "class Duck(Swimmer, Flyer):\n",
    "    def quack(self):\n",
    "        return \"Quack!\"\n",
    "\n",
    "duck = Duck()\n",
    "\n",
    "print(duck.swim())  # Output: Swimming...\n",
    "print(duck.fly())   # Output: Flying...\n",
    "print(duck.quack()) # Output: Quack!\n"
   ]
  },
  {
   "cell_type": "code",
   "execution_count": 8,
   "id": "13b64e73-dcd6-45a8-9654-97db95359729",
   "metadata": {},
   "outputs": [
    {
     "name": "stdout",
     "output_type": "stream",
     "text": [
      "Driving...\n",
      "Honk!\n",
      "Charging...\n"
     ]
    }
   ],
   "source": [
    "# MULTIPLE INHERITANCE\n",
    "class Vehicle:\n",
    "    def drive(self):\n",
    "        return \"Driving...\"\n",
    "\n",
    "class Car(Vehicle):\n",
    "    def honk(self):\n",
    "        return \"Honk!\"\n",
    "\n",
    "class ElectricCar(Car):\n",
    "    def charge(self):\n",
    "        return \"Charging...\"\n",
    "\n",
    "electric_car = ElectricCar()\n",
    "\n",
    "print(electric_car.drive())  # Output: Driving...\n",
    "print(electric_car.honk())   # Output: Honk!\n",
    "print(electric_car.charge())  # Output: Charging...\n"
   ]
  }
 ],
 "metadata": {
  "kernelspec": {
   "display_name": "Python 3 (ipykernel)",
   "language": "python",
   "name": "python3"
  },
  "language_info": {
   "codemirror_mode": {
    "name": "ipython",
    "version": 3
   },
   "file_extension": ".py",
   "mimetype": "text/x-python",
   "name": "python",
   "nbconvert_exporter": "python",
   "pygments_lexer": "ipython3",
   "version": "3.10.8"
  }
 },
 "nbformat": 4,
 "nbformat_minor": 5
}
