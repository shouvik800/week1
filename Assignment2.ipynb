{
 "cells": [
  {
   "cell_type": "code",
   "execution_count": null,
   "id": "ce77c128-be50-4443-b8ac-63f10ca7a90b",
   "metadata": {},
   "outputs": [],
   "source": [
    "# Q1. How do you comment code in Python? What are the different types of comments?\n",
    "## i comment code in python by using ## .And another method is using \"\"\"\"\"\".\n",
    "\n",
    "## There are two types of comment.\n",
    "##1.Single line comment\n",
    "##2.Multi line comment.\n",
    "##For single line comment we use ## and for multi line comment we use \"\"\"\"\"\"."
   ]
  },
  {
   "cell_type": "code",
   "execution_count": 1,
   "id": "f9fb663e-2f7c-41ad-853d-60ae40a05bb6",
   "metadata": {},
   "outputs": [
    {
     "name": "stdout",
     "output_type": "stream",
     "text": [
      "90\n"
     ]
    }
   ],
   "source": [
    "##Q2. What are variables in Python? How do you declare and assign values to variables?\n",
    "# Variables are used to store the data.\n",
    "a=90\n",
    "print(a)\n"
   ]
  },
  {
   "cell_type": "code",
   "execution_count": 2,
   "id": "aae1b78e-db04-4100-b63d-81a76d12f287",
   "metadata": {},
   "outputs": [
    {
     "name": "stdout",
     "output_type": "stream",
     "text": [
      "90\n",
      "<class 'str'>\n",
      "90.0\n"
     ]
    }
   ],
   "source": [
    "##Q3. How do you convert one data type to another in Python?\n",
    "# I covert one data type to another by type casting.\n",
    "a=90\n",
    "print(a)\n",
    "b=str(a)\n",
    "print(type(b))\n",
    "c=float(a)\n",
    "print(c)\n"
   ]
  },
  {
   "cell_type": "code",
   "execution_count": 16,
   "id": "ba22cd61-2244-4e90-a099-b34f52631653",
   "metadata": {},
   "outputs": [
    {
     "ename": "SyntaxError",
     "evalue": "invalid syntax (1505188687.py, line 1)",
     "output_type": "error",
     "traceback": [
      "\u001b[0;36m  Cell \u001b[0;32mIn[16], line 1\u001b[0;36m\u001b[0m\n\u001b[0;31m    python -m first_script\u001b[0m\n\u001b[0m              ^\u001b[0m\n\u001b[0;31mSyntaxError\u001b[0m\u001b[0;31m:\u001b[0m invalid syntax\n"
     ]
    }
   ],
   "source": [
    "#  I need to open a commandline and type the word python followed by the path to my script file like \n",
    "# this: python first_script.py Hello World! Then you hit the ENTER button from the keyboard."
   ]
  },
  {
   "cell_type": "code",
   "execution_count": 3,
   "id": "71b7240c-c421-4bcf-bd19-b52f110dde32",
   "metadata": {},
   "outputs": [
    {
     "name": "stdout",
     "output_type": "stream",
     "text": [
      "[2, 3]\n"
     ]
    }
   ],
   "source": [
    "##Q5. Given a list my_list = [1, 2, 3, 4, 5], write the code to slice the list and obtain the sub-list [2, 3].\n",
    "my_list = [1, 2, 3, 4, 5]\n",
    "print(my_list[1:3])\n"
   ]
  },
  {
   "cell_type": "code",
   "execution_count": 4,
   "id": "3331ba64-12bc-4f3f-bab2-2b6064e72d2e",
   "metadata": {},
   "outputs": [
    {
     "name": "stdout",
     "output_type": "stream",
     "text": [
      "<class 'complex'>\n",
      "9.0\n",
      "2.0\n"
     ]
    }
   ],
   "source": [
    "##Q6. What is a complex number in mathematics, and how is it represented in Python?\n",
    "a=9+2j\n",
    "print(type(a))\n",
    "print(a.real)\n",
    "print(a.imag)\n"
   ]
  },
  {
   "cell_type": "code",
   "execution_count": null,
   "id": "18e1284c-da3a-4507-9cd0-eee9def45933",
   "metadata": {},
   "outputs": [],
   "source": [
    "##Q7. What is the correct way to declare a variable named age and assign the value 25 to it?\n",
    "##age=25\n"
   ]
  },
  {
   "cell_type": "code",
   "execution_count": 7,
   "id": "06ab02c7-7307-4297-9659-6c8ca234f7e2",
   "metadata": {},
   "outputs": [
    {
     "name": "stdout",
     "output_type": "stream",
     "text": [
      "<class 'float'>\n"
     ]
    }
   ],
   "source": [
    "#Q8. Declare a variable named price and assign the value 9.99 to it. What data type does this variable \n",
    "#belong to?\n",
    "price=9.99\n",
    "print(type(price))"
   ]
  },
  {
   "cell_type": "code",
   "execution_count": 9,
   "id": "47f9e046-3dd7-4271-acd7-d6762d6ced9a",
   "metadata": {},
   "outputs": [
    {
     "name": "stdout",
     "output_type": "stream",
     "text": [
      "Shouvik Kundu\n"
     ]
    }
   ],
   "source": [
    "# Q9. Create a variable named name and assign your full name to it as a string. How would you print the \n",
    "# value of this variable?\n",
    "Name=\"Shouvik Kundu\"\n",
    "print(Name)"
   ]
  },
  {
   "cell_type": "code",
   "execution_count": 10,
   "id": "343184ac-e4cd-4544-b5b2-45b3320cb8b7",
   "metadata": {},
   "outputs": [
    {
     "name": "stdout",
     "output_type": "stream",
     "text": [
      "World\n"
     ]
    }
   ],
   "source": [
    "#Q10. Given the string \"Hello, World!\", extract the substring \"World\"\n",
    "\n",
    "Str=\"Hello, World!\"\n",
    "print(Str[7:12])\n"
   ]
  },
  {
   "cell_type": "code",
   "execution_count": 13,
   "id": "7dca7058-c937-43a8-8254-904fdb8b5c4c",
   "metadata": {},
   "outputs": [
    {
     "name": "stdin",
     "output_type": "stream",
     "text": [
      " student\n"
     ]
    },
    {
     "name": "stdout",
     "output_type": "stream",
     "text": [
      "True\n"
     ]
    }
   ],
   "source": [
    "# Q11. Create a variable named \"is_student\" and assign it a boolean value indicating whether you are \n",
    "# currently a student or not\n",
    "\n",
    "Name=str(input())\n",
    "if Name=='student':\n",
    "    is_student=True\n",
    "    print(is_student)\n",
    "else:\n",
    "    is_student=False\n",
    "    print(is_student)\n"
   ]
  },
  {
   "cell_type": "code",
   "execution_count": null,
   "id": "4158e853-281e-4c4e-b312-57cc88d258ff",
   "metadata": {},
   "outputs": [],
   "source": []
  }
 ],
 "metadata": {
  "kernelspec": {
   "display_name": "Python 3 (ipykernel)",
   "language": "python",
   "name": "python3"
  },
  "language_info": {
   "codemirror_mode": {
    "name": "ipython",
    "version": 3
   },
   "file_extension": ".py",
   "mimetype": "text/x-python",
   "name": "python",
   "nbconvert_exporter": "python",
   "pygments_lexer": "ipython3",
   "version": "3.10.8"
  }
 },
 "nbformat": 4,
 "nbformat_minor": 5
}
