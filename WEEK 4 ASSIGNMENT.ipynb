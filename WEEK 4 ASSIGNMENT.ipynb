{
 "cells": [
  {
   "cell_type": "code",
   "execution_count": null,
   "id": "598deb15-ff89-479b-b1c6-15699da1515d",
   "metadata": {},
   "outputs": [],
   "source": [
    "# Q1, Create a vehicle class with an init method having instance variables as name_of_vehicle, max_speed\n",
    "#and average_of_vehicle."
   ]
  },
  {
   "cell_type": "code",
   "execution_count": 4,
   "id": "ae2f0a61-1050-438e-9e9a-1a06972f3048",
   "metadata": {},
   "outputs": [],
   "source": [
    "class vehicle:\n",
    "    def __init__(self,name_of_vehicle,max_speed,average_of_vehicle):\n",
    "        self.a=name_of_vehicle\n",
    "        self.b=max_speed\n",
    "        self.c=average_of_vehicle\n",
    "    def vehicle_details(self):\n",
    "        print(self.a,self.b,self.c)"
   ]
  },
  {
   "cell_type": "code",
   "execution_count": 8,
   "id": "56039e6e-f529-4cc4-9c8c-27f0d7990f24",
   "metadata": {},
   "outputs": [],
   "source": [
    "d=vehicle(\"car\",90,50)"
   ]
  },
  {
   "cell_type": "code",
   "execution_count": 11,
   "id": "ca3189d8-5f18-4d06-9d6e-8c27c67fe478",
   "metadata": {},
   "outputs": [
    {
     "name": "stdout",
     "output_type": "stream",
     "text": [
      "car 90 50\n"
     ]
    }
   ],
   "source": [
    "d.vehicle_details()"
   ]
  },
  {
   "cell_type": "code",
   "execution_count": null,
   "id": "c133769b-68c7-4543-a6ed-c274258d9221",
   "metadata": {},
   "outputs": [],
   "source": [
    "# Q2. Create a child class car from the vehicle class created in Que 1, which will inherit the vehicle class.\n",
    "# Create a method named seating_capacity which takes capacity as an argument and returns the name of\n",
    "# the vehicle and its seating capacity."
   ]
  },
  {
   "cell_type": "code",
   "execution_count": 74,
   "id": "2aa3f3ea-2ae4-4a33-8297-b95318382e49",
   "metadata": {},
   "outputs": [],
   "source": [
    "class vehicle:\n",
    "    def __init__(self,name_of_vehicle,max_speed,average_of_vehicle):\n",
    "        self.a=name_of_vehicle\n",
    "        self.b=max_speed\n",
    "        self.c=average_of_vehicle\n",
    "    def vehicle_details(self):\n",
    "        return(self.a,self.b,self.c)"
   ]
  },
  {
   "cell_type": "code",
   "execution_count": 75,
   "id": "9c48c9c7-4bc8-485f-be1e-380eb38bf440",
   "metadata": {},
   "outputs": [],
   "source": [
    "class car(vehicle):\n",
    "    def seating_capacity(self,seat):\n",
    "        self.seat=seat\n",
    "        return self.a,self.seat"
   ]
  },
  {
   "cell_type": "code",
   "execution_count": 76,
   "id": "b3f3dddf-f486-4e6a-a71d-4fb4c08169a7",
   "metadata": {},
   "outputs": [],
   "source": [
    "e=car(\"bus\",80,60)"
   ]
  },
  {
   "cell_type": "code",
   "execution_count": 77,
   "id": "d98468e5-a04d-4d79-957c-10838e15e42d",
   "metadata": {},
   "outputs": [
    {
     "data": {
      "text/plain": [
       "('bus', 80, 60)"
      ]
     },
     "execution_count": 77,
     "metadata": {},
     "output_type": "execute_result"
    }
   ],
   "source": [
    "e.vehicle_details()"
   ]
  },
  {
   "cell_type": "code",
   "execution_count": 78,
   "id": "bf2cb0b5-e6ac-467e-bd64-efc9120c5abc",
   "metadata": {},
   "outputs": [
    {
     "data": {
      "text/plain": [
       "('bus', 70)"
      ]
     },
     "execution_count": 78,
     "metadata": {},
     "output_type": "execute_result"
    }
   ],
   "source": [
    "e.seating_capacity(70)"
   ]
  },
  {
   "cell_type": "code",
   "execution_count": null,
   "id": "286ba277-38ba-4bf3-9313-837531a4c6ab",
   "metadata": {},
   "outputs": [],
   "source": [
    "# Q3. What is multiple inheritance? Write a python code to demonstrate multiple inheritance."
   ]
  },
  {
   "cell_type": "code",
   "execution_count": 80,
   "id": "2b9db15e-7e8c-4212-8711-26005fe6a80f",
   "metadata": {},
   "outputs": [],
   "source": [
    "# Multiple inheritance is a process where the child class or object \n",
    "# inherits the methods and attributes from one or more parent classes."
   ]
  },
  {
   "cell_type": "code",
   "execution_count": 103,
   "id": "9b811ee9-b59b-4b7b-8fbc-8c144217d05a",
   "metadata": {},
   "outputs": [],
   "source": [
    "class test1():\n",
    "    def test1_details(self):\n",
    "        return \"this is class1\"\n",
    "class test2():\n",
    "    def test2_details(self):\n",
    "        return \"this is class2\"        \n",
    "class test3(test1,test2):\n",
    "    def test3_details(self):\n",
    "        return \"this is class3\""
   ]
  },
  {
   "cell_type": "code",
   "execution_count": 104,
   "id": "f4c676fa-a270-4cdc-b2af-d47c12c9c33b",
   "metadata": {},
   "outputs": [],
   "source": [
    "obj=test3()"
   ]
  },
  {
   "cell_type": "code",
   "execution_count": 105,
   "id": "346e9a58-3b07-4669-af48-ed5eb78279be",
   "metadata": {},
   "outputs": [
    {
     "data": {
      "text/plain": [
       "'this is class2'"
      ]
     },
     "execution_count": 105,
     "metadata": {},
     "output_type": "execute_result"
    }
   ],
   "source": [
    "obj.test2_details()"
   ]
  },
  {
   "cell_type": "code",
   "execution_count": null,
   "id": "34ef6613-5a20-4d96-9d0b-4008b7927cae",
   "metadata": {},
   "outputs": [
    {
     "data": {
      "text/plain": [
       "'this is class3'"
      ]
     },
     "execution_count": 106,
     "metadata": {},
     "output_type": "execute_result"
    }
   ],
   "source": [
    "obj.test3_details()"
   ]
  },
  {
   "cell_type": "code",
   "execution_count": null,
   "id": "5d2897dd-f3ec-4fcb-b787-c2c35c6b6949",
   "metadata": {},
   "outputs": [],
   "source": [
    "# Q4. What are getter and setter in python? Create a class and create a getter and a setter method in this\n",
    "# class."
   ]
  },
  {
   "cell_type": "code",
   "execution_count": 112,
   "id": "fa801926-9610-4386-8ad6-ee0b9a35035b",
   "metadata": {},
   "outputs": [],
   "source": [
    "# Getter: A method that allows to access an attribute in a given class. \n",
    "# Setter: A method that allows to set or mutate the value of an attribute in a class.\n",
    "class car:\n",
    "    def __init__(self,year,make,model,speed):\n",
    "        self.__year=year\n",
    "        self.__make=make\n",
    "        self.__model=model\n",
    "        self.__speed=0\n",
    "    def set_speed(self,speed):\n",
    "        self.__speed=0 if speed<0 else  speed\n",
    "    \n",
    "    def get_speed(self):\n",
    "        return self.__speed"
   ]
  },
  {
   "cell_type": "code",
   "execution_count": 113,
   "id": "44e27c99-62e6-44ab-afae-5278cb2d3433",
   "metadata": {},
   "outputs": [],
   "source": [
    "c=car(2023,\"toyota\",\"innova\",90)"
   ]
  },
  {
   "cell_type": "code",
   "execution_count": 114,
   "id": "0d64e48d-d8ad-45eb-803d-2c942c874fc4",
   "metadata": {},
   "outputs": [],
   "source": [
    "c.set_speed(-76)"
   ]
  },
  {
   "cell_type": "code",
   "execution_count": 115,
   "id": "d63e7686-c7d6-441b-8f0b-e983592a85bb",
   "metadata": {},
   "outputs": [
    {
     "data": {
      "text/plain": [
       "0"
      ]
     },
     "execution_count": 115,
     "metadata": {},
     "output_type": "execute_result"
    }
   ],
   "source": [
    "c.get_speed()"
   ]
  },
  {
   "cell_type": "code",
   "execution_count": null,
   "id": "8ee7d97e-a1f2-428b-a531-967b6619aebd",
   "metadata": {},
   "outputs": [],
   "source": [
    "# Q5.What is method overriding in python? Write a python code to demonstrate method overriding."
   ]
  },
  {
   "cell_type": "code",
   "execution_count": 126,
   "id": "9ee2a691-4a8d-49ab-a44f-24fe0f3eba43",
   "metadata": {},
   "outputs": [],
   "source": [
    "# Method overriding is a feature of object-oriented programming languages where the subclass or\n",
    "# child class can provide the program with specific characteristics or a specific implementation process \n",
    "# of data provided that are already defined in the parent class or superclass."
   ]
  },
  {
   "cell_type": "code",
   "execution_count": 122,
   "id": "dc0c1c1a-62f1-43b5-b013-962883946cc7",
   "metadata": {},
   "outputs": [],
   "source": [
    "class  pwskills2:\n",
    "    mobile_no=9382093431\n",
    "    def __init__(self,name,mail):\n",
    "        self.name=name\n",
    "        self.mail=mail\n",
    "    @classmethod\n",
    "    def change_mobile_no(cls,mobile):  # BY THIS WE CAN CHANGE A THING IN CLASS\n",
    "        pwskills2.mobile_no=mobile\n",
    "    @classmethod\n",
    "    def details(cls,name,mail):\n",
    "        return cls(name,mail)               #WITHOUT CREATING OBJECT\n",
    "        \n",
    "    def students_details(self):\n",
    "        print(self.name,self,mail)"
   ]
  },
  {
   "cell_type": "code",
   "execution_count": 123,
   "id": "ac40e2a5-5d10-48d1-8e5e-dfd9e935cc08",
   "metadata": {},
   "outputs": [],
   "source": [
    "pwskills2.change_mobile_no(9134096191)"
   ]
  },
  {
   "cell_type": "code",
   "execution_count": 124,
   "id": "e50c55a6-80b0-414f-af97-8310a9d499a7",
   "metadata": {},
   "outputs": [
    {
     "data": {
      "text/plain": [
       "9134096191"
      ]
     },
     "execution_count": 124,
     "metadata": {},
     "output_type": "execute_result"
    }
   ],
   "source": [
    "pwskills2.mobile_no"
   ]
  }
 ],
 "metadata": {
  "kernelspec": {
   "display_name": "Python 3 (ipykernel)",
   "language": "python",
   "name": "python3"
  },
  "language_info": {
   "codemirror_mode": {
    "name": "ipython",
    "version": 3
   },
   "file_extension": ".py",
   "mimetype": "text/x-python",
   "name": "python",
   "nbconvert_exporter": "python",
   "pygments_lexer": "ipython3",
   "version": "3.10.8"
  }
 },
 "nbformat": 4,
 "nbformat_minor": 5
}
