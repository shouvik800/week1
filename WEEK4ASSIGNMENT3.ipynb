{
 "cells": [
  {
   "cell_type": "code",
   "execution_count": null,
   "id": "86c2047f-3a2d-4811-b7cc-17aaa2de8a99",
   "metadata": {},
   "outputs": [],
   "source": [
    "# Q1. What is Abstraction in OOps? Explain with an example."
   ]
  },
  {
   "cell_type": "code",
   "execution_count": null,
   "id": "59d55796-6909-4027-b4d3-fac2e663239e",
   "metadata": {},
   "outputs": [],
   "source": [
    "# Abstraction is the process of hiding the internal details of an application from the outer world. Abstraction is used to \n",
    "# describe things in simple terms. It's used to create a boundary between the application and the client programs."
   ]
  },
  {
   "cell_type": "code",
   "execution_count": 1,
   "id": "a593ce09-d46e-441b-9772-4984cb8f1632",
   "metadata": {},
   "outputs": [
    {
     "name": "stdout",
     "output_type": "stream",
     "text": [
      "Area of shape: 78.5\n",
      "Area of shape: 24\n"
     ]
    }
   ],
   "source": [
    "class Shape:\n",
    "    def area(self):\n",
    "        pass\n",
    "\n",
    "class Circle(Shape):\n",
    "    def __init__(self, radius):\n",
    "        self.radius = radius\n",
    "\n",
    "    def area(self):\n",
    "        return 3.14 * self.radius * self.radius\n",
    "\n",
    "class Rectangle(Shape):\n",
    "    def __init__(self, width, height):\n",
    "        self.width = width\n",
    "        self.height = height\n",
    "\n",
    "    def area(self):\n",
    "        return self.width * self.height\n",
    "\n",
    "circle = Circle(5)\n",
    "rectangle = Rectangle(4, 6)\n",
    "\n",
    "shapes = [circle, rectangle]\n",
    "\n",
    "for shape in shapes:\n",
    "    print(f\"Area of shape: {shape.area()}\")\n"
   ]
  },
  {
   "cell_type": "code",
   "execution_count": null,
   "id": "31a22824-46fc-4484-8d54-9c394ac72e22",
   "metadata": {},
   "outputs": [],
   "source": [
    "# Q2. Differentiate between Abstraction and Encapsulation. Explain with an example."
   ]
  },
  {
   "cell_type": "code",
   "execution_count": null,
   "id": "9a8999c6-0eb3-4ea3-b983-13e706227636",
   "metadata": {},
   "outputs": [],
   "source": [
    "# Definition. Abstraction is hiding the details and implementation of the code. Encapsulation is hiding the data and \n",
    "# controlling the visibility of the code.\n"
   ]
  },
  {
   "cell_type": "code",
   "execution_count": 8,
   "id": "f6c46fe0-783c-4f35-854b-f26486aae0d9",
   "metadata": {},
   "outputs": [
    {
     "name": "stdout",
     "output_type": "stream",
     "text": [
      "Area of shape: 78.5\n",
      "Area of shape: 24\n"
     ]
    }
   ],
   "source": [
    "from abc import ABC, abstractmethod\n",
    "\n",
    "class Shape(ABC):\n",
    "    @abstractmethod\n",
    "    def area(self):\n",
    "        pass\n",
    "\n",
    "class Circle(Shape):\n",
    "    def __init__(self, radius):\n",
    "        self.radius = radius\n",
    "\n",
    "    def area(self):\n",
    "        return 3.14 * self.radius * self.radius\n",
    "\n",
    "class Rectangle(Shape):\n",
    "    def __init__(self, width, height):\n",
    "        self.width = width\n",
    "        self.height = height\n",
    "\n",
    "    def area(self):\n",
    "        return self.width * self.height\n",
    "\n",
    "circle = Circle(5)\n",
    "rectangle = Rectangle(4, 6)\n",
    "\n",
    "shapes = [circle, rectangle]\n",
    "\n",
    "for shape in shapes:\n",
    "    print(f\"Area of shape: {shape.area()}\")\n"
   ]
  },
  {
   "cell_type": "code",
   "execution_count": 7,
   "id": "589dc6cb-84cb-4da1-9882-8a9e7349aa11",
   "metadata": {},
   "outputs": [
    {
     "name": "stdout",
     "output_type": "stream",
     "text": [
      "30\n"
     ]
    }
   ],
   "source": [
    "# encapsulation\n",
    "class Person:\n",
    "    def __init__(self, name, age):\n",
    "        self.name = name\n",
    "        self.age = age\n",
    "\n",
    "    def get_age(self):\n",
    "        return self.age\n",
    "\n",
    "    def set_age(self, new_age):\n",
    "        if new_age > 0:\n",
    "            self.age = new_age\n",
    "\n",
    "person = Person(\"Alice\", 30)\n",
    "print(person.get_age())  \n",
    "person.set_age(32)       \n"
   ]
  },
  {
   "cell_type": "code",
   "execution_count": null,
   "id": "42ee561a-4b32-494e-8f3d-bdddca106360",
   "metadata": {},
   "outputs": [],
   "source": [
    "# Q3. What is abc module in python? Why is it used?"
   ]
  },
  {
   "cell_type": "code",
   "execution_count": null,
   "id": "3c4c3294-27f8-4e10-ba95-e7b5826fb671",
   "metadata": {},
   "outputs": [],
   "source": [
    "# The 'abc' module in Python library provides the infrastructure for defining custom abstract base classes. 'abc' works by \n",
    "# marking methods of the base class as abstract. This is done by @absttractmethod \n",
    "# decorator"
   ]
  },
  {
   "cell_type": "code",
   "execution_count": 9,
   "id": "295d28c3-ba51-4afa-b767-30f7491f1fae",
   "metadata": {},
   "outputs": [
    {
     "name": "stdout",
     "output_type": "stream",
     "text": [
      "Woof!\n",
      "Meow!\n"
     ]
    }
   ],
   "source": [
    "from abc import ABC, abstractmethod\n",
    "\n",
    "class Animal(ABC):\n",
    "    @abstractmethod\n",
    "    def speak(self):\n",
    "        pass\n",
    "\n",
    "class Dog(Animal):\n",
    "    def speak(self):\n",
    "        return \"Woof!\"\n",
    "\n",
    "class Cat(Animal):\n",
    "    def speak(self):\n",
    "        return \"Meow!\"\n",
    "\n",
    "dog = Dog()\n",
    "cat = Cat()\n",
    "\n",
    "print(dog.speak()) # Output: Woof!\n",
    "print(cat.speak())  \n"
   ]
  },
  {
   "cell_type": "code",
   "execution_count": null,
   "id": "e68b8822-a9fe-4097-8bd2-e8f631b302ef",
   "metadata": {},
   "outputs": [],
   "source": [
    "# Q4. How can we achieve data abstraction?"
   ]
  },
  {
   "cell_type": "code",
   "execution_count": null,
   "id": "a34c4ccd-d976-4c85-8396-c739f2d46ea4",
   "metadata": {},
   "outputs": [],
   "source": [
    "# Data Abstraction in Python can be achieved through creating abstract classes and inheriting them later. Before discussing\n",
    "# what abstract classes are, let us have a brief introduction of inheritance. Inheritance in OOP is a way through which one\n",
    "# class inherits the attributes and methods of another class."
   ]
  },
  {
   "cell_type": "code",
   "execution_count": null,
   "id": "f8702ea1-eb7d-485a-aa60-1d531442290c",
   "metadata": {},
   "outputs": [],
   "source": [
    "# Q5. Can we create an instance of an abstract class? Explain your answer."
   ]
  },
  {
   "cell_type": "code",
   "execution_count": null,
   "id": "13c023e5-fd53-463a-b5dc-1508296fba85",
   "metadata": {},
   "outputs": [],
   "source": [
    "Abstract classes cannot be instantiated, but they can be subclassed. When an abstract class is subclassed, the subclass \n",
    "usually provides implementations for all of the abstract methods in its parent class. However, if it does not, then the\n",
    "subclass must also be declared abstract .\n"
   ]
  }
 ],
 "metadata": {
  "kernelspec": {
   "display_name": "Python 3 (ipykernel)",
   "language": "python",
   "name": "python3"
  },
  "language_info": {
   "codemirror_mode": {
    "name": "ipython",
    "version": 3
   },
   "file_extension": ".py",
   "mimetype": "text/x-python",
   "name": "python",
   "nbconvert_exporter": "python",
   "pygments_lexer": "ipython3",
   "version": "3.10.8"
  }
 },
 "nbformat": 4,
 "nbformat_minor": 5
}
